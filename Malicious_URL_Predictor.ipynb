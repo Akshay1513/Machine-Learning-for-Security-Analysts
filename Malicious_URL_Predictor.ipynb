{
  "nbformat": 4,
  "nbformat_minor": 0,
  "metadata": {
    "colab": {
      "name": "Malicious URL Predictor.ipynb",
      "version": "0.3.2",
      "provenance": [],
      "collapsed_sections": []
    },
    "kernelspec": {
      "name": "python3",
      "display_name": "Python 3"
    }
  },
  "cells": [
    {
      "cell_type": "code",
      "metadata": {
        "id": "ctfYiOVJ10FF",
        "colab_type": "code",
        "outputId": "e59c6cb0-2968-4923-b308-01516079fffa",
        "colab": {
          "base_uri": "https://localhost:8080/",
          "height": 34
        }
      },
      "source": [
        "### This notebook uses Python 3.x ###\n",
        "### Author: GTKlondike            ###\n",
        "\n",
        "\n",
        "# Download data from Github\n",
        "! git clone https://github.com/NetsecExplained/Machine-Learning-for-Security-Analysts.git\n",
        "data_dir = \"Machine-Learning-for-Security-Analysts\""
      ],
      "execution_count": 0,
      "outputs": [
        {
          "output_type": "stream",
          "text": [
            "fatal: destination path 'Machine-Learning-for-Security-Analysts' already exists and is not an empty directory.\n"
          ],
          "name": "stdout"
        }
      ]
    },
    {
      "cell_type": "code",
      "metadata": {
        "id": "z3llO4xb-eTK",
        "colab_type": "code",
        "outputId": "d2a986fe-f4a8-44e0-b0fe-d3c397423a0f",
        "colab": {
          "base_uri": "https://localhost:8080/",
          "height": 34
        }
      },
      "source": [
        "# ======= Imports =======\n",
        "from sklearn.model_selection import train_test_split\n",
        "import pandas as pd\n",
        "import numpy as np\n",
        "import matplotlib.pyplot as plt\n",
        "\n",
        "# Used for graphing the confusion matrix\n",
        "import seaborn as sns\n",
        "\n",
        "import random\n",
        "from sklearn.feature_extraction.text import TfidfVectorizer, CountVectorizer\n",
        "from sklearn.linear_model import LogisticRegression\n",
        "\n",
        "from sklearn.naive_bayes import MultinomialNB\n",
        "from sklearn.metrics import confusion_matrix\n",
        "\n",
        "# ======= /Imports =======\n",
        "print(\"Libraries imported\")"
      ],
      "execution_count": 0,
      "outputs": [
        {
          "output_type": "stream",
          "text": [
            "Libraries imported\n"
          ],
          "name": "stdout"
        }
      ]
    },
    {
      "cell_type": "code",
      "metadata": {
        "colab_type": "code",
        "id": "gSDUnB13-b5S",
        "outputId": "abbc164d-ea93-4b2c-d381-914ad811b7da",
        "colab": {
          "base_uri": "https://localhost:8080/",
          "height": 272
        }
      },
      "source": [
        "#path to our all urls file\n",
        "allurls = data_dir + '/Malicious URLs.csv'\n",
        "\n",
        "#reading file\n",
        "allurlscsv = pd.read_csv(allurls,',',error_bad_lines=False, header=None)\n",
        "\n",
        "#converting it into an array\n",
        "allurlsdata = np.array(allurlscsv)\n",
        "\n",
        "#shuffling\n",
        "np.random.shuffle(allurlsdata)\n",
        "\n",
        "print(\"=== Raw Data ===\")\n",
        "print(allurlsdata[:5])\n",
        "print(\"\")\n",
        "\n",
        "print(\"=== Formatted Data ===\")\n",
        "for e in allurlsdata[:5]:\n",
        "  print(\"{0} - {1}\".format(e[1], e[0]))"
      ],
      "execution_count": 0,
      "outputs": [
        {
          "output_type": "stream",
          "text": [
            "=== Raw Data ===\n",
            "[['6i3cb6owitcouepv.paybrakepoint.com/img/lb.png' 'bad']\n",
            " ['findagrave.com/php/famous.php?page=name&firstName=Aline&lastName=Towne'\n",
            "  'good']\n",
            " ['hillquest.com/history/timeline_bridges.html' 'good']\n",
            " ['grandprizecaterers.com/zilla/' 'bad']\n",
            " ['select.nytimes.com/gst/abstract.html?res=F50712F7345516738DDDAC0894D8415B8188F1D3'\n",
            "  'good']]\n",
            "\n",
            "=== Formatted Data ===\n",
            "bad - 6i3cb6owitcouepv.paybrakepoint.com/img/lb.png\n",
            "good - findagrave.com/php/famous.php?page=name&firstName=Aline&lastName=Towne\n",
            "good - hillquest.com/history/timeline_bridges.html\n",
            "bad - grandprizecaterers.com/zilla/\n",
            "good - select.nytimes.com/gst/abstract.html?res=F50712F7345516738DDDAC0894D8415B8188F1D3\n"
          ],
          "name": "stdout"
        }
      ]
    },
    {
      "cell_type": "code",
      "metadata": {
        "id": "4OPpXJfI-2Nq",
        "colab_type": "code",
        "outputId": "5ce0f8cc-4b59-4ab7-cd5a-c35bc4f04a0f",
        "colab": {
          "base_uri": "https://localhost:8080/",
          "height": 102
        }
      },
      "source": [
        "def getTokens(input):\n",
        "    tokensBySlash = str(input.encode('utf-8')).split('/')    #get tokens after splitting by slash\n",
        "    allTokens = []\n",
        "    for i in tokensBySlash:\n",
        "        tokens = str(i).split('-')    #get tokens after splitting by dash\n",
        "        tokensByDot = []\n",
        "        for j in range(0,len(tokens)):\n",
        "            tempTokens = str(tokens[j]).split('.')    #get tokens after splitting by dot\n",
        "            tokensByDot = tokensByDot + tempTokens\n",
        "        allTokens = allTokens + tokens + tokensByDot\n",
        "    allTokens = list(set(allTokens))    #remove redundant tokens\n",
        "    if 'com' in allTokens:\n",
        "        allTokens.remove('com')    #removing .com since it occurs a lot of times and it should not be included in our features\n",
        "    return allTokens\n",
        "\n",
        "s = allurlsdata[2][0]\n",
        "t = getTokens(s)\n",
        "print(\"Example URL:\")\n",
        "print(s)\n",
        "print(\"\")\n",
        "print(\"URL Split:\")\n",
        "print(t)"
      ],
      "execution_count": 0,
      "outputs": [
        {
          "output_type": "stream",
          "text": [
            "Example URL:\n",
            "hillquest.com/history/timeline_bridges.html\n",
            "\n",
            "URL Split:\n",
            "['timeline_bridges', \"b'hillquest.com\", \"b'hillquest\", \"html'\", \"timeline_bridges.html'\", 'history']\n"
          ],
          "name": "stdout"
        }
      ]
    },
    {
      "cell_type": "code",
      "metadata": {
        "id": "BFj1XB9q-4H3",
        "colab_type": "code",
        "outputId": "70938227-28f3-448c-b300-59957c39cf76",
        "colab": {
          "base_uri": "https://localhost:8080/",
          "height": 241
        }
      },
      "source": [
        "#all labels \n",
        "y = [d[1] for d in allurlsdata]\n",
        "\n",
        "#all urls corresponding to a label (either good or bad)\n",
        "corpus = [d[0] for d in allurlsdata]\n",
        "\n",
        "#get a vector for each url but use our customized tokenizer\n",
        "\n",
        "\n",
        "# !!! TODO !!! \n",
        "#   Change the 'vectorizer' to a CountVectorizer and compare the results\n",
        "\n",
        "vectorizer = TfidfVectorizer(tokenizer=getTokens)\n",
        "#vectorizer = CountVectorizer(tokenizer=getTokens)\n",
        "\n",
        "\n",
        "X = vectorizer.fit_transform(corpus) #get the X vector\n",
        "\n",
        "print(\"Printing input\")\n",
        "print(X[0])\n",
        "print(\"\")\n",
        "print(\"Printing labels\")\n",
        "print(y[:5])\n",
        "print(corpus[:5])"
      ],
      "execution_count": 0,
      "outputs": [
        {
          "output_type": "stream",
          "text": [
            "Printing input\n",
            "  (0, 129764)\t0.418631756439048\n",
            "  (0, 501581)\t0.3020700133606744\n",
            "  (0, 532762)\t0.4386880351325282\n",
            "  (0, 591826)\t0.418631756439048\n",
            "  (0, 532739)\t0.38628870895148815\n",
            "  (0, 129760)\t0.3460699366185892\n",
            "  (0, 612681)\t0.3111559933003973\n",
            "\n",
            "Printing labels\n",
            "['bad', 'good', 'good', 'bad', 'good']\n",
            "['6i3cb6owitcouepv.paybrakepoint.com/img/lb.png', 'findagrave.com/php/famous.php?page=name&firstName=Aline&lastName=Towne', 'hillquest.com/history/timeline_bridges.html', 'grandprizecaterers.com/zilla/', 'select.nytimes.com/gst/abstract.html?res=F50712F7345516738DDDAC0894D8415B8188F1D3']\n"
          ],
          "name": "stdout"
        }
      ]
    },
    {
      "cell_type": "code",
      "metadata": {
        "id": "N3rvi31K_AnG",
        "colab_type": "code",
        "outputId": "f2da6501-07a2-47cd-9e52-255a118d88b4",
        "colab": {
          "base_uri": "https://localhost:8080/",
          "height": 472
        }
      },
      "source": [
        "#split into training and testing set 70/30 ratio\n",
        "\n",
        "# !!! TODO !!!\n",
        "# Change the test size from 30% to 20% of the data and compare the results\n",
        "test_percentage = .3\n",
        "\n",
        "X_train, X_test, y_train, y_test = train_test_split(X, y, test_size=test_percentage, random_state=42)\n",
        "\n",
        "print(\"Counting the split:\")\n",
        "print(\"X inputs:\", X.shape[0])\n",
        "print(\"X_train:\", X_train.shape[0])\n",
        "print(\"X_test:\", X_test.shape[0])\n",
        "\n",
        "plt.figure(figsize=(5,5))\n",
        "count_classes = pd.value_counts(y_train, sort = True).sort_index()\n",
        "count_classes.plot(kind = 'bar', fontsize=12)\n",
        "plt.title(\"URL class histogram\")\n",
        "plt.xlabel(\"Class\", size=16)\n",
        "plt.ylabel(\"Frequency\", size=16)\n",
        "\n",
        "print(\"Good:\", y_train.count(\"good\"))\n",
        "print(\"Bad:\", y_train.count(\"bad\"))"
      ],
      "execution_count": 0,
      "outputs": [
        {
          "output_type": "stream",
          "text": [
            "Counting the split:\n",
            "X inputs: 420464\n",
            "X_train: 294324\n",
            "X_test: 126140\n",
            "Good: 241526\n",
            "Bad: 52798\n"
          ],
          "name": "stdout"
        },
        {
          "output_type": "display_data",
          "data": {
            "image/png": "[encoded data removed]",
            "text/plain": [
              "<Figure size 360x360 with 1 Axes>"
            ]
          },
          "metadata": {
            "tags": []
          }
        }
      ]
    },
    {
      "cell_type": "code",
      "metadata": {
        "id": "5nhga4Q2_DcO",
        "colab_type": "code",
        "outputId": "e3122952-692c-4fd8-f94a-5003b5e80d37",
        "colab": {
          "base_uri": "https://localhost:8080/",
          "height": 51
        }
      },
      "source": [
        "# === /LGS ===\n",
        "# This takes about 45 seconds on Colab\n",
        "\n",
        "#using logistic regression\n",
        "lgs = LogisticRegression(solver='lbfgs', max_iter=1000)\n",
        "lgs.fit(X_train, y_train)\n",
        "score = lgs.score(X_test, y_test)\n",
        "\n",
        "#printing the score.\n",
        "print(\"logistic predictor\")\n",
        "print(score)\n",
        "lgs_pred = lgs.predict(X_test)\n",
        "\n",
        "cmL = confusion_matrix(lgs_pred, y_test)\n",
        "#print(cmL)\n",
        "\n",
        "# === /LGS ==="
      ],
      "execution_count": 0,
      "outputs": [
        {
          "output_type": "stream",
          "text": [
            "logistic predictor\n",
            "0.9593546852703345\n"
          ],
          "name": "stdout"
        }
      ]
    },
    {
      "cell_type": "code",
      "metadata": {
        "id": "tYxt-CEAEEfx",
        "colab_type": "code",
        "outputId": "c7cd5c57-2774-460c-d9af-bf45d1033808",
        "colab": {
          "base_uri": "https://localhost:8080/",
          "height": 314
        }
      },
      "source": [
        "# Print confusion matrix\n",
        "plt.figure(figsize=(5,5))\n",
        "sns.heatmap(cmL, annot=True, fmt=\"d\", linewidths=.5, square = True, cmap = 'Blues')\n",
        "plt.ylabel('Actual label', size=16);\n",
        "plt.xlabel('Predicted label', size=16);\n",
        "all_sample_title = 'Accuracy Score: {0:.4f}'.format(score)\n",
        "plt.title(all_sample_title, size = 20);"
      ],
      "execution_count": 0,
      "outputs": [
        {
          "output_type": "display_data",
          "data": {
            "image/png": "[encoded data removed]",
            "text/plain": [
              "<Figure size 360x360 with 2 Axes>"
            ]
          },
          "metadata": {
            "tags": []
          }
        }
      ]
    },
    {
      "cell_type": "code",
      "metadata": {
        "id": "91XCYeH1_F8K",
        "colab_type": "code",
        "outputId": "c5dfeaf7-a814-46db-9893-011dbd2c1192",
        "colab": {
          "base_uri": "https://localhost:8080/",
          "height": 51
        }
      },
      "source": [
        "# === MNB ===\n",
        "# This takes about 1 second on Colab\n",
        "\n",
        "mnb = MultinomialNB()\n",
        "mnb.fit(X_train, y_train)\n",
        "score = mnb.score(X_test, y_test)\n",
        "\n",
        "print(\"multiNB predictor\")\n",
        "print(mnb.score(X_test, y_test))\n",
        "mnb_pred = mnb.predict(X_test)\n",
        "cmB = confusion_matrix(mnb_pred, y_test)\n",
        "#print(cmB)\n",
        "\n",
        "# === /MNB ==="
      ],
      "execution_count": 0,
      "outputs": [
        {
          "output_type": "stream",
          "text": [
            "multiNB predictor\n",
            "0.9633106072617726\n"
          ],
          "name": "stdout"
        }
      ]
    },
    {
      "cell_type": "code",
      "metadata": {
        "id": "G6y5mEW6Hlm_",
        "colab_type": "code",
        "outputId": "4fde4030-e090-4c3e-e2e2-63bc46363cf6",
        "colab": {
          "base_uri": "https://localhost:8080/",
          "height": 314
        }
      },
      "source": [
        "# Print confusion matrix\n",
        "plt.figure(figsize=(5,5))\n",
        "sns.heatmap(cmB, annot=True, fmt=\"d\", linewidths=.5, square = True, cmap = 'Blues')\n",
        "plt.ylabel('Actual label', size=16);\n",
        "plt.xlabel('Predicted label', size=16);\n",
        "all_sample_title = 'Accuracy Score: {0:.4f}'.format(score)\n",
        "plt.title(all_sample_title, size = 20);"
      ],
      "execution_count": 0,
      "outputs": [
        {
          "output_type": "display_data",
          "data": {
            "image/png": "[encoded data removed]",
            "text/plain": [
              "<Figure size 360x360 with 2 Axes>"
            ]
          },
          "metadata": {
            "tags": []
          }
        }
      ]
    },
    {
      "cell_type": "code",
      "metadata": {
        "id": "qOl4-P-vHy76",
        "colab_type": "code",
        "colab": {}
      },
      "source": [
        ""
      ],
      "execution_count": 0,
      "outputs": []
    }
  ]
}